{
 "cells": [
  {
   "cell_type": "markdown",
   "metadata": {},
   "source": [
    "# Initialize"
   ]
  },
  {
   "cell_type": "code",
   "execution_count": 2,
   "metadata": {},
   "outputs": [],
   "source": [
    "from pyspark import SparkContext, SparkConf\n",
    "import os, string, math\n",
    "import numpy as np"
   ]
  },
  {
   "cell_type": "code",
   "execution_count": 3,
   "metadata": {},
   "outputs": [],
   "source": [
    "conf = SparkConf().setAppName(\"wordCounter\")\n",
    "sc = SparkContext(conf=conf)\n",
    "doc = sc.textFile(\"datafiles/f1.txt\")"
   ]
  },
  {
   "cell_type": "code",
   "execution_count": 4,
   "metadata": {},
   "outputs": [],
   "source": [
    "f = open('stopwords.txt', 'r')\n",
    "stoplist = f.read().splitlines()\n",
    "stops = set(stoplist)"
   ]
  },
  {
   "cell_type": "code",
   "execution_count": 5,
   "metadata": {},
   "outputs": [],
   "source": [
    "def rm_punctuation(text):\n",
    "    #converted = text.encode('utf-8')\n",
    "    lowercased_str = text.lower().replace('--', ' ')\n",
    "    translator = str.maketrans('', '', string.punctuation)\n",
    "    clean_str = lowercased_str.translate(translator)\n",
    "    return clean_str"
   ]
  },
  {
   "cell_type": "markdown",
   "metadata": {},
   "source": [
    "# Stage 1\n",
    "\n",
    "1. Clean each row in the document and split into words\n",
    "2. Filter out the stopwords\n",
    "3. Filter out the short words\n",
    "4. Append document identifier at the end of word and create key value pair\n",
    "5. Count occurances of words by reduce"
   ]
  },
  {
   "cell_type": "code",
   "execution_count": 6,
   "metadata": {
    "scrolled": true
   },
   "outputs": [
    {
     "data": {
      "text/plain": [
       "['f7.txt',\n",
       " 'f6.txt',\n",
       " 'f9.txt',\n",
       " 'f4.txt',\n",
       " 'f3.txt',\n",
       " 'f8.txt',\n",
       " 'f5.txt',\n",
       " 'f1.txt',\n",
       " 'f2.txt',\n",
       " 'f10.txt']"
      ]
     },
     "execution_count": 6,
     "metadata": {},
     "output_type": "execute_result"
    }
   ],
   "source": [
    "docs_dir = 'datafiles/'\n",
    "doc_names = []\n",
    "for filename in os.listdir(docs_dir):\n",
    "    doc_names.append(filename)\n",
    "\n",
    "doc_names"
   ]
  },
  {
   "cell_type": "code",
   "execution_count": 7,
   "metadata": {},
   "outputs": [
    {
     "name": "stdout",
     "output_type": "stream",
     "text": [
      "1191\n",
      "1771\n",
      "2734\n",
      "4371\n",
      "4839\n",
      "5019\n",
      "5183\n",
      "5452\n",
      "6167\n"
     ]
    }
   ],
   "source": [
    "for i in range(1, len(doc_names) + 1):\n",
    "    if i == 1:\n",
    "        doc = sc.textFile(\"datafiles/f1.txt\")\n",
    "        word_counts = doc.flatMap(lambda line: rm_punctuation(line).split()) \\\n",
    "                .filter(lambda word: word not in stops) \\\n",
    "                .filter(lambda word: len(word) > 3) \\\n",
    "                .map(lambda word: (word + '@d1', 1)) \\\n",
    "                .reduceByKey(lambda a, b: a + b)\n",
    "    else:\n",
    "        doc = sc.textFile(\"datafiles/f\" + str(i) + \".txt\")\n",
    "        pairs = doc.flatMap(lambda line: rm_punctuation(line).split()) \\\n",
    "                .filter(lambda word: word not in stops) \\\n",
    "                .filter(lambda word: len(word) > 3) \\\n",
    "                .map(lambda word: (word + '@d' + str(i), 1)) \\\n",
    "                .reduceByKey(lambda a, b: a + b)\n",
    "        word_counts = word_counts.union(pairs)\n",
    "        print(word_counts.count())"
   ]
  },
  {
   "cell_type": "markdown",
   "metadata": {},
   "source": [
    "# Stage 2\n",
    "Stage 2 contains 5 status:<br/>\n",
    "(word@doc, freq) => (word, doc=freq) => (word, (doc=freq)) => (word, (doc=tfidf)) => (word, doc=tfidf )"
   ]
  },
  {
   "cell_type": "code",
   "execution_count": 8,
   "metadata": {},
   "outputs": [
    {
     "name": "stdout",
     "output_type": "stream",
     "text": [
      "6167\n"
     ]
    },
    {
     "data": {
      "text/plain": [
       "[('treated@d1', 1),\n",
       " ('naturally@d1', 1),\n",
       " ('dentists@d1', 1),\n",
       " ('tedious@d1', 2),\n",
       " ('williss@d1', 2)]"
      ]
     },
     "execution_count": 8,
     "metadata": {},
     "output_type": "execute_result"
    }
   ],
   "source": [
    "term_freq = word_counts\n",
    "no_of_docs = len(doc_names)\n",
    "print(term_freq.count())\n",
    "term_freq.take(5)"
   ]
  },
  {
   "cell_type": "code",
   "execution_count": 9,
   "metadata": {},
   "outputs": [],
   "source": [
    "def compute_tfidf(val):\n",
    "    freqs = list(val)\n",
    "    df = len(val)\n",
    "    result = []\n",
    "    for freq in freqs:\n",
    "        doc = freq.split('=')[0]\n",
    "        tf = int(freq.split('=')[1])\n",
    "        tfidf = format((1 + np.log(tf)) * np.log(10 / df), '.3f')\n",
    "        result.append(doc + '=' + tfidf)\n",
    "    \n",
    "    return result"
   ]
  },
  {
   "cell_type": "code",
   "execution_count": 10,
   "metadata": {},
   "outputs": [],
   "source": [
    "def restore_docid(rdd):\n",
    "    word, docs = rdd\n",
    "    result = []\n",
    "    for doc in docs:\n",
    "        word_docid = '{0}@{1}'.format(word, doc.split('=')[0])\n",
    "        tfidf = float(doc.split('=')[1])\n",
    "        pair = (word_docid, tfidf)\n",
    "        result.append(pair)\n",
    "    \n",
    "    return result"
   ]
  },
  {
   "cell_type": "code",
   "execution_count": 11,
   "metadata": {},
   "outputs": [
    {
     "data": {
      "text/plain": [
       "[('volunteer@d5', 1.204),\n",
       " ('volunteer@d10', 2.039),\n",
       " ('volunteer@d6', 1.204),\n",
       " ('charities@d10', 1.609),\n",
       " ('charities@d5', 1.609)]"
      ]
     },
     "execution_count": 11,
     "metadata": {},
     "output_type": "execute_result"
    }
   ],
   "source": [
    "tf_idfs = word_counts.map(lambda pair: (pair[0].split('@')[0], pair[0].split('@')[1] + \"=\" + str(pair[1]))) \\\n",
    "                     .groupByKey() \\\n",
    "                     .mapValues(compute_tfidf) \\\n",
    "                     .flatMap(restore_docid)\n",
    "tf_idfs.take(5)"
   ]
  },
  {
   "cell_type": "markdown",
   "metadata": {},
   "source": [
    "# Stage 3\n",
    "(word@doc, tfidf) => (doc, word=tfidf) => (doc, (word=tfidf)) => (doc, (word=norm-tfidf)) => (word@doc, norm-tfidf)"
   ]
  },
  {
   "cell_type": "code",
   "execution_count": 15,
   "metadata": {},
   "outputs": [],
   "source": [
    "def norm_tfidfs(val):\n",
    "    word_tfidfs = list(val)\n",
    "    tf_idfs = []\n",
    "    result = []\n",
    "    S = 0\n",
    "    for word_tfidf in word_tfidfs:\n",
    "        score = float(word_tfidf.split('=')[1])\n",
    "        tf_idfs.append(score)\n",
    "        S += score ** 2\n",
    "\n",
    "    norms = np.array(tf_idfs) / math.sqrt(S)\n",
    "    for i in range(len(word_tfidfs)):\n",
    "        word_norm = word_tfidfs[i].split('=')[0] + '=' + str(format(norms[i], '.4f'))\n",
    "        result.append(word_norm)\n",
    "    \n",
    "    return result"
   ]
  },
  {
   "cell_type": "code",
   "execution_count": 16,
   "metadata": {},
   "outputs": [],
   "source": [
    "def restore_word(rdd):\n",
    "    docid, scores = rdd\n",
    "    result = []\n",
    "    for score in scores:\n",
    "        word_docid = '{0}@{1}'.format(score.split('=')[0], docid)\n",
    "        norm = float(score.split('=')[1])\n",
    "        pair = (word_docid, norm)\n",
    "        result.append(pair)\n",
    "    \n",
    "    return result"
   ]
  },
  {
   "cell_type": "code",
   "execution_count": 17,
   "metadata": {},
   "outputs": [
    {
     "data": {
      "text/plain": [
       "[('weeks@d8', 0.1073),\n",
       " ('head@d8', 0.0117),\n",
       " ('reproachful@d8', 0.1211),\n",
       " ('leave@d8', 0.0455),\n",
       " ('creepy@d8', 0.1211)]"
      ]
     },
     "execution_count": 17,
     "metadata": {},
     "output_type": "execute_result"
    }
   ],
   "source": [
    "norm_tfidfs = tf_idfs.map(lambda pair: (pair[0].split('@')[1], '{0}={1}'.format(pair[0].split('@')[0], pair[1]))) \\\n",
    "                     .groupByKey() \\\n",
    "                     .mapValues(norm_tfidfs) \\\n",
    "                     .flatMap(restore_word)\n",
    "norm_tfidfs.take(5)"
   ]
  },
  {
   "cell_type": "markdown",
   "metadata": {},
   "source": [
    "# Stage 4\n",
    "(word@doc, norm-tfidf) => (doc, word=norm-tfidf) => (doc, (word=norm-tfidf)) => (doc, sum-of-norm-tfidfs)"
   ]
  },
  {
   "cell_type": "code",
   "execution_count": 18,
   "metadata": {},
   "outputs": [
    {
     "data": {
      "text/plain": [
       "['happy', 'dinner']"
      ]
     },
     "execution_count": 18,
     "metadata": {},
     "output_type": "execute_result"
    }
   ],
   "source": [
    "query = open('query.txt', 'r')\n",
    "query_words = query.read().split()\n",
    "query_words"
   ]
  },
  {
   "cell_type": "code",
   "execution_count": 19,
   "metadata": {},
   "outputs": [],
   "source": [
    "def sum_norm_tfidfs(val):\n",
    "    word_norms = list(val)\n",
    "    sum_of_norm_tfidfs = 0\n",
    "    for word_norm in word_norms:\n",
    "        norm_tfidf = float(word_norm.split('=')[1])\n",
    "        sum_of_norm_tfidfs += norm_tfidf\n",
    "    \n",
    "    return sum_of_norm_tfidfs"
   ]
  },
  {
   "cell_type": "code",
   "execution_count": 20,
   "metadata": {},
   "outputs": [
    {
     "data": {
      "text/plain": [
       "[('d8', 0.0482),\n",
       " ('d10', 0.0152),\n",
       " ('d2', 0.0183),\n",
       " ('d4', 0.0582),\n",
       " ('d5', 0.0239),\n",
       " ('d3', 0.0323),\n",
       " ('d1', 0.0189)]"
      ]
     },
     "execution_count": 20,
     "metadata": {},
     "output_type": "execute_result"
    }
   ],
   "source": [
    "relevance = norm_tfidfs.map(lambda pair: (pair[0].split('@')[1], '{0}={1}'.format(pair[0].split('@')[0], pair[1]))) \\\n",
    "                       .filter(lambda x: (x[1].split('=')[0]) in query_words) \\\n",
    "                       .groupByKey() \\\n",
    "                       .mapValues(sum_norm_tfidfs)\n",
    "relevance.collect()"
   ]
  },
  {
   "cell_type": "markdown",
   "metadata": {},
   "source": [
    "# Stage 5\n",
    "Top 3 documents are picked."
   ]
  },
  {
   "cell_type": "code",
   "execution_count": 21,
   "metadata": {},
   "outputs": [
    {
     "data": {
      "text/plain": [
       "[('d4', 0.0582), ('d8', 0.0482), ('d3', 0.0323)]"
      ]
     },
     "execution_count": 21,
     "metadata": {},
     "output_type": "execute_result"
    }
   ],
   "source": [
    "k = 3\n",
    "relevance.takeOrdered(k, key = lambda x: -x[1])"
   ]
  },
  {
   "cell_type": "code",
   "execution_count": null,
   "metadata": {
    "collapsed": true
   },
   "outputs": [],
   "source": []
  }
 ],
 "metadata": {
  "kernelspec": {
   "display_name": "Python 3",
   "language": "python",
   "name": "python3"
  },
  "language_info": {
   "codemirror_mode": {
    "name": "ipython",
    "version": 3
   },
   "file_extension": ".py",
   "mimetype": "text/x-python",
   "name": "python",
   "nbconvert_exporter": "python",
   "pygments_lexer": "ipython3",
   "version": "3.5.2"
  }
 },
 "nbformat": 4,
 "nbformat_minor": 2
}
